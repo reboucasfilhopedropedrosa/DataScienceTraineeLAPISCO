{
 "cells": [
  {
   "cell_type": "markdown",
   "metadata": {},
   "source": [
    "## Ferramentas importantes"
   ]
  },
  {
   "cell_type": "markdown",
   "metadata": {},
   "source": [
    "## Virtual enviroments\n",
    "\n",
    "Criação de envs utilizando virtualenvwrapper\n",
    "* pip3 install virtualenv virtualenvwrapper\n",
    "* mkdir $HOME/.virtualenvs"
   ]
  },
  {
   "cell_type": "markdown",
   "metadata": {},
   "source": [
    "Após instalar o virtualenv e virtualenvwrapper. Abra o arquivo de bash (nano ~/.bashrc) e acrescente as seguintes linhas"
   ]
  },
  {
   "cell_type": "markdown",
   "metadata": {},
   "source": [
    "        export WORKON_HOME=$HOME/.virtualenvs\n",
    "        export PROJECT_HOME=$HOME/\n",
    "        export VIRTUALENVWRAPPER_PYTHON=/usr/bin/python3\n",
    "        source $HOME/.local/bin/virtualenvwrapper.sh"
   ]
  },
  {
   "cell_type": "markdown",
   "metadata": {},
   "source": [
    "Após acrescentar e salvar as linhas no arquivo de bash, execute o comando:\n",
    "* source ~/.bashrc"
   ]
  },
  {
   "cell_type": "markdown",
   "metadata": {},
   "source": [
    "Caso haja algum erro, provavelmente será em relacao ao local onde o virtualenvwrapper.sh foi instalado. Portanto você pode executar o comando: whereis virtualenvwrapper.sh. E substituir o resultado no arquivo de bash pela linha:\n",
    "\n",
    "source <local_onde_virtualenvwrapper.sh_está>\n",
    "\n",
    "\n",
    "E depois executar: source ~/.bashrc"
   ]
  },
  {
   "cell_type": "markdown",
   "metadata": {},
   "source": [
    "### Comandos com virtualenvwrapper\n",
    "\n",
    "Criar uma env\n",
    "* mkvirtualenv $<$nome_da_env$>$ -p $<$interpretador_python$>$\n",
    "\n",
    "Entrar em uma env\n",
    "* workon $<$nome_da_env$>$"
   ]
  },
  {
   "cell_type": "markdown",
   "metadata": {},
   "source": [
    "### Criação do arquivo requirements.txt\n",
    "\n",
    "O arquivo requirements.txt deve ter todas as bibliotecas da env que você utiliza, bem como a versão de cada biblioteca para facilitar a reprodução do seu código por outras pessoas.\n",
    "\n",
    "Para criar um arquivo requirements.txt é necessário primeiramente a instalação da biblioteca freeze dentro da env que está utilizando, para instalar digite:\n",
    "\n",
    "* pip install freeze\n",
    "\n",
    "Com a biblioteca instalada, basta digitar dentro da env:\n",
    "\n",
    "* pip freeze > requirements.txt\n"
   ]
  },
  {
   "cell_type": "markdown",
   "metadata": {},
   "source": [
    "## Jupyter notebooks"
   ]
  },
  {
   "cell_type": "markdown",
   "metadata": {},
   "source": [
    "Para facilitar a utilização de jupyter notebooks com virtual enviroments, instale o jupyter notebook dentro da env que você deseja. Para instalar o jupyter:\n",
    "\n",
    "* pip install jupyter notebook jupyter_contrib_nbextensions"
   ]
  },
  {
   "cell_type": "markdown",
   "metadata": {},
   "source": [
    "Uma vez que o Jupyter está instalado, basta digitar no terminal:\n",
    "\n",
    "* jupyter notebook\n",
    "\n",
    "E ele será iniciado.\n",
    "\n",
    "\n",
    "**IMPORTANTE:** notebooks não foram feitos para se utilizar mouse, aperte P e aparecerá uma lista de atalhos para criar, deletar, executar, entrar, sair e navegar pelas células, além de muitos outros. Esses atalhos facilitam a utitilização do jupyter, além de aumentar a sua produtividade."
   ]
  },
  {
   "cell_type": "markdown",
   "metadata": {},
   "source": [
    "### MITO: Jupyter notebooks foram feitos apenas para apresentacões.\n",
    "\n",
    "Um jupyter notebook é uma ferramenta poderosa que pode facilitar a codificação e visualização de código, alem de aumentar e muito a sua produtividade se utilizado da forma correta.\n",
    "\n",
    "\n",
    "Existem formas de exportar apenas as células que voce julga importantes para o seu projeto final. Uma dessas formas é apresentada a seguir (é necessário ter python 3.7+)."
   ]
  },
  {
   "cell_type": "code",
   "execution_count": null,
   "metadata": {},
   "outputs": [],
   "source": [
    "#export\n",
    "\n",
    "class test:\n",
    "    def __init__(self):\n",
    "        pass\n",
    "    \n",
    "    def __call__(self):\n",
    "        print('Hello world!')"
   ]
  },
  {
   "cell_type": "code",
   "execution_count": null,
   "metadata": {},
   "outputs": [],
   "source": [
    "!python notebook2script.py Aula.ipynb"
   ]
  },
  {
   "cell_type": "code",
   "execution_count": 4,
   "metadata": {},
   "outputs": [
    {
     "name": "stdout",
     "output_type": "stream",
     "text": [
      "Hello world!\n"
     ]
    }
   ],
   "source": [
    "from exp.nb_Aula import test\n",
    "\n",
    "t1 = test()\n",
    "t1()"
   ]
  },
  {
   "cell_type": "markdown",
   "metadata": {},
   "source": [
    "Colocando #export no início de uma célula você está informando para o código notebook2script.py que deseja que o conteúdo dessa célula seja exportado para um arquivo .py\n",
    "\n",
    "\n",
    "Créditos: Jeremy Howard (fastai) [Curso de deep learning gratuito do fastai](https://www.fast.ai/)"
   ]
  },
  {
   "cell_type": "markdown",
   "metadata": {},
   "source": [
    "### Outras ferramentas abordadas na aula\n",
    "\n",
    "* Google Colaboratory\n",
    "* LaTeX e overleaf"
   ]
  },
  {
   "cell_type": "markdown",
   "metadata": {},
   "source": [
    "### Google Colaboratory\n",
    "\n",
    "* Estrutura muito semelhante com Jupyter notebook.\n",
    "* Muitas bibliotecas de machine learning já vem instaladas.\n",
    "* Acesso gratuito a GPU por até 12 horas ininterruptas."
   ]
  },
  {
   "cell_type": "markdown",
   "metadata": {},
   "source": [
    "### Overleaf\n",
    "\n",
    "\n",
    "* Permite a criação de textos de forma rápida e efetiva utilizando LaTeX.\n",
    "* Possibilita a edição dos arquivos por varios colaboradores de modo simultâneo.\n",
    "* Facilita na revisão, edição, criação de tabelas e figuras, referências, etc."
   ]
  }
 ],
 "metadata": {
  "kernelspec": {
   "display_name": "Python 3",
   "language": "python",
   "name": "python3"
  },
  "language_info": {
   "codemirror_mode": {
    "name": "ipython",
    "version": 3
   },
   "file_extension": ".py",
   "mimetype": "text/x-python",
   "name": "python",
   "nbconvert_exporter": "python",
   "pygments_lexer": "ipython3",
   "version": "3.7.4"
  }
 },
 "nbformat": 4,
 "nbformat_minor": 4
}
